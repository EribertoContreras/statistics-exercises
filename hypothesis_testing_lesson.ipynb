{
 "cells": [
  {
   "cell_type": "code",
   "execution_count": 1,
   "id": "af37dd82",
   "metadata": {},
   "outputs": [],
   "source": [
    "import matplotlib.pyplot as plt\n",
    "import numpy as np\n",
    "import pandas as pd\n",
    "from scipy import stats"
   ]
  },
  {
   "cell_type": "markdown",
   "id": "462361cc",
   "metadata": {},
   "source": [
    "## For each of the following questions, formulate a null and alternative hypothesis (be as specific as you can be), then give an example of what a true positive, true negative, type I and type II errors would look like. Note that some of the questions are intentionally phrased in a vague way. It is your job to reword these as more precise questions that could be tested.\n",
    "\n",
    "- Has the network latency gone up since we switched internet service providers?\n",
    "- Is the website redesign any good?\n",
    "- Is our television ad driving more sales?\n"
   ]
  },
  {
   "cell_type": "markdown",
   "id": "f2ccfaae",
   "metadata": {},
   "source": [
    "####  1)assuming that we switched providers to get faster speeds, Have the upload/download speeds improved by at least 33% from the previouse provider?"
   ]
  },
  {
   "cell_type": "markdown",
   "id": "68e6ca09",
   "metadata": {},
   "source": [
    "### Network Latency:\n",
    "\n",
    "- H0: Null hypothesis- network latency have stayed the same. they have not decreased or increased.\n",
    "\n",
    "- H1: Alternate Hypothesis- as a result from the change, there has been above a %20 change in lattency change.\n",
    "\n",
    "- True positive result- As a result from the change in provider the latency has improved and it has been verified.\n",
    "\n",
    "- True negative result- As a result from the change in provider the latency has stayed the same or decreased and it has.\n",
    "\n",
    "- False positive result- (type I error) Determined that latency has increased but it has actually decrased or stayed the same.\n",
    "\n",
    "- False negative result- (type II Error) I determined that latancy has decreased or stayed the same when it actually increased."
   ]
  },
  {
   "cell_type": "markdown",
   "id": "7d9a0a55",
   "metadata": {},
   "source": [
    "### Website Redesign:\n",
    "\n",
    "- H0: Null hypothesis- Website redesign has had the same negative and positived effects on our customers.\n",
    "\n",
    "- H1: Alternate Hypothesis- Existing customers have enjoyed and gave positive feedback on the new website redesign.\n",
    "\n",
    "- True positive result- As a result from the change in webdesign, customer feedback and satisfaction has improved.\n",
    "\n",
    "- True negative result- As a result from the change in WebDesign, customer feeback has stayed the same or decreased and it has.\n",
    "\n",
    "- False positive result- Determined that new WebDesign customer feedback had increased but it has actually decrased or stayed the same.\n",
    "\n",
    "- False negative result- I determined that new WebDesign customer feedback has decreased or stayed the same when it actually increased.\n"
   ]
  },
  {
   "cell_type": "markdown",
   "id": "3ae957fd",
   "metadata": {},
   "source": [
    "### Television Ad Driving More Sales:\n",
    "\n",
    "- H0: Null hypothesis- Television Ad Driving has had the same negative and positived effects on our Sales.\n",
    "\n",
    "- H1: Alternate Hypothesis- Our Sales have improved due to Television Ad Driving.\n",
    "\n",
    "- True positive result- As a result from Television Ad Driving, We have had more Sales.\n",
    "\n",
    "- True negative result- As a result from Television Ad Driving, Sales have stayed the same or decreased and it has.\n",
    "\n",
    "- False positive result- Determined that Television Ad Driving had increased Sales but it has actually decrased or stayed the same.\n",
    "\n",
    "- False negative result- I determined that Television Ad Driving has decreased Sales or Sales stayed the same when it actually increased.\n",
    "\n"
   ]
  },
  {
   "cell_type": "code",
   "execution_count": null,
   "id": "8e931f47",
   "metadata": {},
   "outputs": [],
   "source": []
  }
 ],
 "metadata": {
  "kernelspec": {
   "display_name": "Python 3 (ipykernel)",
   "language": "python",
   "name": "python3"
  },
  "language_info": {
   "codemirror_mode": {
    "name": "ipython",
    "version": 3
   },
   "file_extension": ".py",
   "mimetype": "text/x-python",
   "name": "python",
   "nbconvert_exporter": "python",
   "pygments_lexer": "ipython3",
   "version": "3.9.7"
  }
 },
 "nbformat": 4,
 "nbformat_minor": 5
}
