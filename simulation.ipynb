{
 "cells": [
  {
   "cell_type": "code",
   "execution_count": 1,
   "id": "b9315870",
   "metadata": {},
   "outputs": [],
   "source": [
    "import pandas as pd\n",
    "import numpy as np\n",
    "import scipy.stats as stats\n",
    "import matplotlib.pyplot as plt\n",
    "import seaborn as sns\n",
    "from math import sqrt"
   ]
  },
  {
   "cell_type": "markdown",
   "id": "d57fdfbe",
   "metadata": {},
   "source": [
    "### 1) How likely is it that you roll doubles when rolling two dice? 0.1673"
   ]
  },
  {
   "cell_type": "code",
   "execution_count": 2,
   "id": "9b93aebf",
   "metadata": {},
   "outputs": [
    {
     "data": {
      "text/plain": [
       "array([[4, 5],\n",
       "       [3, 6],\n",
       "       [6, 5],\n",
       "       ...,\n",
       "       [2, 3],\n",
       "       [5, 1],\n",
       "       [1, 5]])"
      ]
     },
     "execution_count": 2,
     "metadata": {},
     "output_type": "execute_result"
    }
   ],
   "source": [
    "#n_simulations = nrows = 10**5\n",
    "#n_dice_rolled = ncols = 3\n",
    "\n",
    "#rolls = np.random.choice([1, 2, 3, 4, 5, 6], nrows * ncols).reshape(nrows, ncols)\n",
    "\n",
    "#(pd.DataFrame(rolls)\n",
    " #.apply(lambda row: 3 in row.values, axis=1)\n",
    " #.mean())\n",
    "\n",
    "# 1)How likely is it that you roll doubles when rolling two dice?\n",
    "n_rolls = nrows = 10**5\n",
    "n_dice = ncols = 2\n",
    "\n",
    "rolls = np.random.choice([1,2,3,4,5,6], nrows * ncols).reshape(nrows, ncols)\n",
    "\n",
    "# (pd.DataFrame(rolls)\n",
    "#  .apply(lambda row: lambda row: row[0]==row[1], axis = 1, axis = 1)\n",
    "#  .mean())\n",
    "\n",
    "rolls"
   ]
  },
  {
   "cell_type": "code",
   "execution_count": 3,
   "id": "a4afc88e",
   "metadata": {},
   "outputs": [],
   "source": [
    "rolls = pd.DataFrame(rolls)"
   ]
  },
  {
   "cell_type": "code",
   "execution_count": 4,
   "id": "ea90984d",
   "metadata": {},
   "outputs": [
    {
     "data": {
      "text/html": [
       "<div>\n",
       "<style scoped>\n",
       "    .dataframe tbody tr th:only-of-type {\n",
       "        vertical-align: middle;\n",
       "    }\n",
       "\n",
       "    .dataframe tbody tr th {\n",
       "        vertical-align: top;\n",
       "    }\n",
       "\n",
       "    .dataframe thead th {\n",
       "        text-align: right;\n",
       "    }\n",
       "</style>\n",
       "<table border=\"1\" class=\"dataframe\">\n",
       "  <thead>\n",
       "    <tr style=\"text-align: right;\">\n",
       "      <th></th>\n",
       "      <th>0</th>\n",
       "      <th>1</th>\n",
       "    </tr>\n",
       "  </thead>\n",
       "  <tbody>\n",
       "    <tr>\n",
       "      <th>0</th>\n",
       "      <td>4</td>\n",
       "      <td>5</td>\n",
       "    </tr>\n",
       "    <tr>\n",
       "      <th>1</th>\n",
       "      <td>3</td>\n",
       "      <td>6</td>\n",
       "    </tr>\n",
       "    <tr>\n",
       "      <th>2</th>\n",
       "      <td>6</td>\n",
       "      <td>5</td>\n",
       "    </tr>\n",
       "    <tr>\n",
       "      <th>3</th>\n",
       "      <td>6</td>\n",
       "      <td>1</td>\n",
       "    </tr>\n",
       "    <tr>\n",
       "      <th>4</th>\n",
       "      <td>4</td>\n",
       "      <td>3</td>\n",
       "    </tr>\n",
       "    <tr>\n",
       "      <th>...</th>\n",
       "      <td>...</td>\n",
       "      <td>...</td>\n",
       "    </tr>\n",
       "    <tr>\n",
       "      <th>99995</th>\n",
       "      <td>3</td>\n",
       "      <td>1</td>\n",
       "    </tr>\n",
       "    <tr>\n",
       "      <th>99996</th>\n",
       "      <td>5</td>\n",
       "      <td>6</td>\n",
       "    </tr>\n",
       "    <tr>\n",
       "      <th>99997</th>\n",
       "      <td>2</td>\n",
       "      <td>3</td>\n",
       "    </tr>\n",
       "    <tr>\n",
       "      <th>99998</th>\n",
       "      <td>5</td>\n",
       "      <td>1</td>\n",
       "    </tr>\n",
       "    <tr>\n",
       "      <th>99999</th>\n",
       "      <td>1</td>\n",
       "      <td>5</td>\n",
       "    </tr>\n",
       "  </tbody>\n",
       "</table>\n",
       "<p>100000 rows × 2 columns</p>\n",
       "</div>"
      ],
      "text/plain": [
       "       0  1\n",
       "0      4  5\n",
       "1      3  6\n",
       "2      6  5\n",
       "3      6  1\n",
       "4      4  3\n",
       "...   .. ..\n",
       "99995  3  1\n",
       "99996  5  6\n",
       "99997  2  3\n",
       "99998  5  1\n",
       "99999  1  5\n",
       "\n",
       "[100000 rows x 2 columns]"
      ]
     },
     "execution_count": 4,
     "metadata": {},
     "output_type": "execute_result"
    }
   ],
   "source": [
    "rolls"
   ]
  },
  {
   "cell_type": "code",
   "execution_count": 5,
   "id": "ea459a27",
   "metadata": {},
   "outputs": [],
   "source": [
    "rolls['pairs']= rolls.apply(lambda row: row[0]==row[1], axis = 1)"
   ]
  },
  {
   "cell_type": "code",
   "execution_count": 6,
   "id": "de2a1e3c",
   "metadata": {},
   "outputs": [
    {
     "name": "stdout",
     "output_type": "stream",
     "text": [
      "How likely is it that you roll doubles when rolling two dice? 0.16658\n"
     ]
    }
   ],
   "source": [
    "rolls.pairs.mean()\n",
    "print('How likely is it that you roll doubles when rolling two dice?', rolls.pairs.mean())"
   ]
  },
  {
   "cell_type": "markdown",
   "id": "1eee8343",
   "metadata": {},
   "source": [
    "### 2)If you flip 8 coins, what is the probability of getting exactly 3 heads? What is the probability of getting more than 3 heads?"
   ]
  },
  {
   "cell_type": "code",
   "execution_count": 7,
   "id": "7e713626",
   "metadata": {},
   "outputs": [
    {
     "data": {
      "text/plain": [
       "array([[1, 1, 0, ..., 1, 0, 0],\n",
       "       [1, 0, 0, ..., 0, 1, 0],\n",
       "       [1, 1, 1, ..., 1, 0, 1],\n",
       "       ...,\n",
       "       [1, 1, 0, ..., 0, 1, 0],\n",
       "       [0, 0, 0, ..., 0, 0, 1],\n",
       "       [0, 1, 1, ..., 0, 1, 0]])"
      ]
     },
     "execution_count": 7,
     "metadata": {},
     "output_type": "execute_result"
    }
   ],
   "source": [
    "n_flips = flips = 10**5\n",
    "n_coins = coins = 8\n",
    "\n",
    "flip = np.random.choice([0,1], flips * coins).reshape(flips, coins)\n",
    "# (pd.DataFrame(flip)\n",
    "#   .apply(lambda flips: flip.sum(), axis = 1)\n",
    "#   .mean())\n",
    "flip"
   ]
  },
  {
   "cell_type": "code",
   "execution_count": 8,
   "id": "5410a492",
   "metadata": {},
   "outputs": [
    {
     "data": {
      "text/html": [
       "<div>\n",
       "<style scoped>\n",
       "    .dataframe tbody tr th:only-of-type {\n",
       "        vertical-align: middle;\n",
       "    }\n",
       "\n",
       "    .dataframe tbody tr th {\n",
       "        vertical-align: top;\n",
       "    }\n",
       "\n",
       "    .dataframe thead th {\n",
       "        text-align: right;\n",
       "    }\n",
       "</style>\n",
       "<table border=\"1\" class=\"dataframe\">\n",
       "  <thead>\n",
       "    <tr style=\"text-align: right;\">\n",
       "      <th></th>\n",
       "      <th>0</th>\n",
       "      <th>1</th>\n",
       "      <th>2</th>\n",
       "      <th>3</th>\n",
       "      <th>4</th>\n",
       "      <th>5</th>\n",
       "      <th>6</th>\n",
       "      <th>7</th>\n",
       "    </tr>\n",
       "  </thead>\n",
       "  <tbody>\n",
       "    <tr>\n",
       "      <th>0</th>\n",
       "      <td>1</td>\n",
       "      <td>1</td>\n",
       "      <td>0</td>\n",
       "      <td>0</td>\n",
       "      <td>0</td>\n",
       "      <td>1</td>\n",
       "      <td>0</td>\n",
       "      <td>0</td>\n",
       "    </tr>\n",
       "    <tr>\n",
       "      <th>1</th>\n",
       "      <td>1</td>\n",
       "      <td>0</td>\n",
       "      <td>0</td>\n",
       "      <td>0</td>\n",
       "      <td>0</td>\n",
       "      <td>0</td>\n",
       "      <td>1</td>\n",
       "      <td>0</td>\n",
       "    </tr>\n",
       "    <tr>\n",
       "      <th>2</th>\n",
       "      <td>1</td>\n",
       "      <td>1</td>\n",
       "      <td>1</td>\n",
       "      <td>0</td>\n",
       "      <td>0</td>\n",
       "      <td>1</td>\n",
       "      <td>0</td>\n",
       "      <td>1</td>\n",
       "    </tr>\n",
       "    <tr>\n",
       "      <th>3</th>\n",
       "      <td>0</td>\n",
       "      <td>0</td>\n",
       "      <td>1</td>\n",
       "      <td>0</td>\n",
       "      <td>1</td>\n",
       "      <td>0</td>\n",
       "      <td>1</td>\n",
       "      <td>0</td>\n",
       "    </tr>\n",
       "    <tr>\n",
       "      <th>4</th>\n",
       "      <td>0</td>\n",
       "      <td>0</td>\n",
       "      <td>0</td>\n",
       "      <td>0</td>\n",
       "      <td>1</td>\n",
       "      <td>0</td>\n",
       "      <td>1</td>\n",
       "      <td>0</td>\n",
       "    </tr>\n",
       "    <tr>\n",
       "      <th>...</th>\n",
       "      <td>...</td>\n",
       "      <td>...</td>\n",
       "      <td>...</td>\n",
       "      <td>...</td>\n",
       "      <td>...</td>\n",
       "      <td>...</td>\n",
       "      <td>...</td>\n",
       "      <td>...</td>\n",
       "    </tr>\n",
       "    <tr>\n",
       "      <th>99995</th>\n",
       "      <td>1</td>\n",
       "      <td>1</td>\n",
       "      <td>1</td>\n",
       "      <td>1</td>\n",
       "      <td>1</td>\n",
       "      <td>0</td>\n",
       "      <td>0</td>\n",
       "      <td>0</td>\n",
       "    </tr>\n",
       "    <tr>\n",
       "      <th>99996</th>\n",
       "      <td>0</td>\n",
       "      <td>0</td>\n",
       "      <td>0</td>\n",
       "      <td>1</td>\n",
       "      <td>1</td>\n",
       "      <td>0</td>\n",
       "      <td>0</td>\n",
       "      <td>0</td>\n",
       "    </tr>\n",
       "    <tr>\n",
       "      <th>99997</th>\n",
       "      <td>1</td>\n",
       "      <td>1</td>\n",
       "      <td>0</td>\n",
       "      <td>0</td>\n",
       "      <td>1</td>\n",
       "      <td>0</td>\n",
       "      <td>1</td>\n",
       "      <td>0</td>\n",
       "    </tr>\n",
       "    <tr>\n",
       "      <th>99998</th>\n",
       "      <td>0</td>\n",
       "      <td>0</td>\n",
       "      <td>0</td>\n",
       "      <td>0</td>\n",
       "      <td>1</td>\n",
       "      <td>0</td>\n",
       "      <td>0</td>\n",
       "      <td>1</td>\n",
       "    </tr>\n",
       "    <tr>\n",
       "      <th>99999</th>\n",
       "      <td>0</td>\n",
       "      <td>1</td>\n",
       "      <td>1</td>\n",
       "      <td>1</td>\n",
       "      <td>0</td>\n",
       "      <td>0</td>\n",
       "      <td>1</td>\n",
       "      <td>0</td>\n",
       "    </tr>\n",
       "  </tbody>\n",
       "</table>\n",
       "<p>100000 rows × 8 columns</p>\n",
       "</div>"
      ],
      "text/plain": [
       "       0  1  2  3  4  5  6  7\n",
       "0      1  1  0  0  0  1  0  0\n",
       "1      1  0  0  0  0  0  1  0\n",
       "2      1  1  1  0  0  1  0  1\n",
       "3      0  0  1  0  1  0  1  0\n",
       "4      0  0  0  0  1  0  1  0\n",
       "...   .. .. .. .. .. .. .. ..\n",
       "99995  1  1  1  1  1  0  0  0\n",
       "99996  0  0  0  1  1  0  0  0\n",
       "99997  1  1  0  0  1  0  1  0\n",
       "99998  0  0  0  0  1  0  0  1\n",
       "99999  0  1  1  1  0  0  1  0\n",
       "\n",
       "[100000 rows x 8 columns]"
      ]
     },
     "execution_count": 8,
     "metadata": {},
     "output_type": "execute_result"
    }
   ],
   "source": [
    "pd.DataFrame(flip)"
   ]
  },
  {
   "cell_type": "code",
   "execution_count": 9,
   "id": "4285c5cc",
   "metadata": {},
   "outputs": [
    {
     "name": "stdout",
     "output_type": "stream",
     "text": [
      "probability of getting exactly 3 heads:  0.2178\n"
     ]
    }
   ],
   "source": [
    "(flip.sum(axis = 1)==3).mean()\n",
    "print(\"probability of getting exactly 3 heads: \",(flip.sum(axis = 1)==3).mean())"
   ]
  },
  {
   "cell_type": "markdown",
   "id": "8a25575f",
   "metadata": {},
   "source": [
    "### Probability of getting exactly 3 heads:  0.2172"
   ]
  },
  {
   "cell_type": "code",
   "execution_count": 10,
   "id": "49e27b50",
   "metadata": {},
   "outputs": [
    {
     "name": "stdout",
     "output_type": "stream",
     "text": [
      "Probability of getting more than 3 heads:  0.6368\n"
     ]
    }
   ],
   "source": [
    "(flip.sum(axis = 1)>=3).mean()\n",
    "print(\"Probability of getting more than 3 heads: \",(flip.sum(axis = 1)>3).mean())"
   ]
  },
  {
   "cell_type": "markdown",
   "id": "7e00a1d3",
   "metadata": {},
   "source": [
    "### Probability of getting more than 3 heads:  0.63883"
   ]
  },
  {
   "cell_type": "markdown",
   "id": "23a86e54",
   "metadata": {},
   "source": [
    "### 3) There are approximitely 3 web development cohorts for every 1 data science cohort at Codeup. Assuming that Codeup randomly selects an alumni to put on a billboard, what are the odds that the two billboards I drive past both have data science students on them? 0.06124"
   ]
  },
  {
   "cell_type": "code",
   "execution_count": 11,
   "id": "2b8140f0",
   "metadata": {},
   "outputs": [
    {
     "data": {
      "text/plain": [
       "array([[0, 1],\n",
       "       [1, 0],\n",
       "       [1, 0],\n",
       "       ...,\n",
       "       [1, 0],\n",
       "       [0, 0],\n",
       "       [0, 0]])"
      ]
     },
     "execution_count": 11,
     "metadata": {},
     "output_type": "execute_result"
    }
   ],
   "source": [
    "trials = 10**5\n",
    "billboards = 2\n",
    "\n",
    "stud = np.random.choice([1,0,0,0],trials * billboards).reshape(trials,billboards)\n",
    "stud"
   ]
  },
  {
   "cell_type": "code",
   "execution_count": 12,
   "id": "d960c8fc",
   "metadata": {},
   "outputs": [
    {
     "data": {
      "text/plain": [
       "0.06308"
      ]
     },
     "execution_count": 12,
     "metadata": {},
     "output_type": "execute_result"
    }
   ],
   "source": [
    "(stud.sum(axis = 1)==2).mean()"
   ]
  },
  {
   "cell_type": "markdown",
   "id": "f316bf04",
   "metadata": {},
   "source": [
    "### 4) Codeup students buy, on average, 3 poptart packages with a standard deviation of 1.5 a day from the snack vending machine. If on monday the machine is restocked with 17 poptart packages, how likely is it that I will be able to buy some poptarts on Friday afternoon? (Remember, if you have mean and standard deviation, use the np.random.normal)"
   ]
  },
  {
   "cell_type": "code",
   "execution_count": 13,
   "id": "bd99c534",
   "metadata": {},
   "outputs": [
    {
     "data": {
      "text/plain": [
       "array([[5., 3., 3., 5., 4.],\n",
       "       [3., 2., 1., 0., 1.],\n",
       "       [2., 3., 4., 3., 1.],\n",
       "       ...,\n",
       "       [3., 2., 2., 4., 4.],\n",
       "       [4., 1., 3., 3., 2.],\n",
       "       [6., 2., 4., 2., 5.]])"
      ]
     },
     "execution_count": 13,
     "metadata": {},
     "output_type": "execute_result"
    }
   ],
   "source": [
    "n_simulation = n_rows = 10**5\n",
    "n_days = n_columns = 5\n",
    "\n",
    "popsim = np.random.normal(loc = 3, scale = 1.5, size = (n_rows,n_columns)).round()\n",
    "popsim = np.where(popsim < 0,0,popsim)\n",
    "popsim"
   ]
  },
  {
   "cell_type": "code",
   "execution_count": 14,
   "id": "da51517b",
   "metadata": {},
   "outputs": [
    {
     "data": {
      "text/plain": [
       "array([20.,  7., 13., ..., 15., 13., 19.])"
      ]
     },
     "execution_count": 14,
     "metadata": {},
     "output_type": "execute_result"
    }
   ],
   "source": [
    "if_pop = popsim.sum(axis=1)\n",
    "if_pop"
   ]
  },
  {
   "cell_type": "code",
   "execution_count": 15,
   "id": "d8ec154e",
   "metadata": {},
   "outputs": [
    {
     "data": {
      "text/plain": [
       "0.66615"
      ]
     },
     "execution_count": 15,
     "metadata": {},
     "output_type": "execute_result"
    }
   ],
   "source": [
    "if_pop_avail = if_pop < 17\n",
    "if_pop_avail.mean()"
   ]
  },
  {
   "cell_type": "markdown",
   "id": "46fbf7fd",
   "metadata": {},
   "source": [
    "### 5) Compare Heights\n",
    "\n",
    "- Men have an average height of 178 cm and standard deviation of 8cm.\n",
    "- Women have a mean of 170, sd = 6cm.\n",
    "- Since you have means and standard deviations, you can use np.random.normal to generate observations.\n",
    "- If a man and woman are chosen at random, what is the likelihood the woman is taller than the man?"
   ]
  },
  {
   "cell_type": "code",
   "execution_count": 27,
   "id": "3771d46d",
   "metadata": {},
   "outputs": [],
   "source": [
    "num_trials = n_rows = 10**5\n",
    "m_heights = np.random.normal(loc = 178, scale = 8, size = n_rows)\n",
    "f_heights = np.random.normal(loc = 170, scale = 6, size = n_rows)\n",
    "                             "
   ]
  },
  {
   "cell_type": "code",
   "execution_count": 28,
   "id": "aafff351",
   "metadata": {},
   "outputs": [
    {
     "data": {
      "text/plain": [
       "0.21131"
      ]
     },
     "execution_count": 28,
     "metadata": {},
     "output_type": "execute_result"
    }
   ],
   "source": [
    "(f_heights>m_heights).mean()"
   ]
  },
  {
   "cell_type": "markdown",
   "id": "32d9d0c9",
   "metadata": {},
   "source": [
    "### 6) When installing anaconda on a student's computer, there's a 1 in 250 chance that the download is corrupted and the installation fails. What are the odds that after having 50 students download anaconda, no one has an installation issue? 100 students?\n",
    "\n",
    "- What is the probability that we observe an installation issue within the first 150 students that download anaconda?\n",
    "- How likely is it that 450 students all download anaconda without an issue?"
   ]
  },
  {
   "cell_type": "code",
   "execution_count": 35,
   "id": "52607a1e",
   "metadata": {},
   "outputs": [
    {
     "data": {
      "text/plain": [
       "0.81813"
      ]
     },
     "execution_count": 35,
     "metadata": {},
     "output_type": "execute_result"
    }
   ],
   "source": [
    "n_rows = 10**5\n",
    "n_columns = 50\n",
    "\n",
    "inst = np.random.choice([0,1], p = [0.004,0.996],size =(n_rows, n_columns))\n",
    "(inst.sum(axis=1)==50).mean()"
   ]
  },
  {
   "cell_type": "code",
   "execution_count": 37,
   "id": "128cef45",
   "metadata": {},
   "outputs": [
    {
     "data": {
      "text/plain": [
       "0.6675"
      ]
     },
     "execution_count": 37,
     "metadata": {},
     "output_type": "execute_result"
    }
   ],
   "source": [
    "n_columns = 100\n",
    "\n",
    "inst = np.random.choice([0,1], p=[0.004,0.996],size =(n_rows,n_columns))\n",
    "(inst.sum(axis=1)==100).mean()"
   ]
  },
  {
   "cell_type": "code",
   "execution_count": 38,
   "id": "c9afe680",
   "metadata": {},
   "outputs": [
    {
     "data": {
      "text/plain": [
       "0.55104"
      ]
     },
     "execution_count": 38,
     "metadata": {},
     "output_type": "execute_result"
    }
   ],
   "source": [
    "n_columns = 150\n",
    "\n",
    "inst = np.random.choice([0,1], p=[0.004,0.996],size =(n_rows,n_columns))\n",
    "(inst.sum(axis=1)==150).mean()"
   ]
  },
  {
   "cell_type": "code",
   "execution_count": 39,
   "id": "a749af44",
   "metadata": {},
   "outputs": [
    {
     "data": {
      "text/plain": [
       "0.16439"
      ]
     },
     "execution_count": 39,
     "metadata": {},
     "output_type": "execute_result"
    }
   ],
   "source": [
    "n_columns = 450\n",
    "\n",
    "inst = np.random.choice([0,1], p=[0.004,0.996],size =(n_rows,n_columns))\n",
    "(inst.sum(axis=1)==450).mean()"
   ]
  },
  {
   "cell_type": "markdown",
   "id": "fc20da59",
   "metadata": {},
   "source": [
    "### 7) There's a 70% chance on any given day that there will be at least one food truck at Travis Park. However, you haven't seen a food truck there in 3 days. How unlikely is this?How likely is it that a food truck will show up sometime this week?"
   ]
  },
  {
   "cell_type": "code",
   "execution_count": 41,
   "id": "6cf40c6d",
   "metadata": {},
   "outputs": [],
   "source": [
    "n_rows = 10**5\n",
    "n_cols = 3\n",
    "\n",
    "ftruck = np.random.choice([1,0], size=(n_rows,n_cols), p=[0.7, 0.3])"
   ]
  },
  {
   "cell_type": "code",
   "execution_count": 42,
   "id": "314bdaec",
   "metadata": {},
   "outputs": [
    {
     "data": {
      "text/plain": [
       "0.02682"
      ]
     },
     "execution_count": 42,
     "metadata": {},
     "output_type": "execute_result"
    }
   ],
   "source": [
    "(ftruck.sum(axis=1)==0).mean()"
   ]
  },
  {
   "cell_type": "code",
   "execution_count": 43,
   "id": "8c2c9daa",
   "metadata": {},
   "outputs": [
    {
     "data": {
      "text/plain": [
       "0.9105"
      ]
     },
     "execution_count": 43,
     "metadata": {},
     "output_type": "execute_result"
    }
   ],
   "source": [
    "n_cols = 2\n",
    "\n",
    "ftruck = np.random.choice([1,0], size=(n_rows,n_cols), p=[0.7, 0.3])\n",
    "(ftruck.sum(axis=1)>0).mean()"
   ]
  },
  {
   "cell_type": "markdown",
   "id": "17dc549f",
   "metadata": {},
   "source": [
    "### 8) If 23 people are in the same room, what are the odds that two of them share a birthday? What if it's 20 people? 40?"
   ]
  },
  {
   "cell_type": "code",
   "execution_count": 46,
   "id": "12af4439",
   "metadata": {},
   "outputs": [
    {
     "data": {
      "text/plain": [
       "0.50927"
      ]
     },
     "execution_count": 46,
     "metadata": {},
     "output_type": "execute_result"
    }
   ],
   "source": [
    "n_rows = 10**5\n",
    "n_cols = 23\n",
    "bday = np.random.choice(range(365), size=(n_rows,n_cols))\n",
    "bday = pd.DataFrame(bday)\n",
    "bday[\"n_unique\"]= bday.nunique(axis=1)\n",
    "(bday.n_unique != 23).mean()"
   ]
  },
  {
   "cell_type": "code",
   "execution_count": 47,
   "id": "847644ce",
   "metadata": {},
   "outputs": [
    {
     "data": {
      "text/plain": [
       "0.41143"
      ]
     },
     "execution_count": 47,
     "metadata": {},
     "output_type": "execute_result"
    }
   ],
   "source": [
    "n_rows = 10**5\n",
    "n_cols = 20\n",
    "bday = np.random.choice(range(365), size=(n_rows,n_cols))\n",
    "bday = pd.DataFrame(bday)\n",
    "bday[\"n_unique\"]= bday.nunique(axis=1)\n",
    "(bday.n_unique != 20).mean()"
   ]
  },
  {
   "cell_type": "code",
   "execution_count": null,
   "id": "1dc6935a",
   "metadata": {},
   "outputs": [],
   "source": []
  }
 ],
 "metadata": {
  "kernelspec": {
   "display_name": "Python 3 (ipykernel)",
   "language": "python",
   "name": "python3"
  },
  "language_info": {
   "codemirror_mode": {
    "name": "ipython",
    "version": 3
   },
   "file_extension": ".py",
   "mimetype": "text/x-python",
   "name": "python",
   "nbconvert_exporter": "python",
   "pygments_lexer": "ipython3",
   "version": "3.9.7"
  }
 },
 "nbformat": 4,
 "nbformat_minor": 5
}
