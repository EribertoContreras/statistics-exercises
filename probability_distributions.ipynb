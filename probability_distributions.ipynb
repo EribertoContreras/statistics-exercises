{
 "cells": [
  {
   "cell_type": "code",
   "execution_count": 154,
   "id": "2e03f462",
   "metadata": {},
   "outputs": [],
   "source": [
    "import matplotlib.pyplot as plt\n",
    "import numpy as np\n",
    "import pandas as pd\n",
    "from scipy import stats"
   ]
  },
  {
   "cell_type": "markdown",
   "id": "6328e099",
   "metadata": {},
   "source": [
    "### 1) A bank found that the average number of cars waiting during the noon hour at a drive-up window follows a Poisson distribution with a mean of 2 cars. Make a chart of this distribution and answer these questions concerning the probability of cars waiting at the drive-up window.\n",
    "\n",
    "- What is the probability that no cars drive up in the noon hour? 0.132\n",
    "- What is the probability that 3 or more cars come through the drive through? 0.323\n",
    "- How likely is it that the drive through gets at least 1 car? 0.867"
   ]
  },
  {
   "cell_type": "code",
   "execution_count": 63,
   "id": "4bae5849",
   "metadata": {},
   "outputs": [],
   "source": [
    "n_trials = 100\n",
    "p = .02\n",
    "\n",
    "bcars = stats.binom(n_trials,p)"
   ]
  },
  {
   "cell_type": "code",
   "execution_count": 121,
   "id": "766ad3d7",
   "metadata": {},
   "outputs": [
    {
     "data": {
      "image/png": "[encoded data removed]",
      "text/plain": [
       "<Figure size 432x288 with 1 Axes>"
      ]
     },
     "metadata": {
      "needs_background": "light"
     },
     "output_type": "display_data"
    }
   ],
   "source": [
    "x = np.arange(0,12)\n",
    "y = stats.poisson(2).pmf(x)\n",
    "\n",
    "plt.bar(x,y)\n",
    "plt.xlabel('cars/hr')\n",
    "plt.ylabel('probability(X)')\n",
    "plt.title('cars per hr');\n"
   ]
  },
  {
   "cell_type": "code",
   "execution_count": 57,
   "id": "944bcf97",
   "metadata": {},
   "outputs": [
    {
     "data": {
      "text/plain": [
       "0.13261955589475294"
      ]
     },
     "execution_count": 57,
     "metadata": {},
     "output_type": "execute_result"
    }
   ],
   "source": [
    "bcars.pmf(0)"
   ]
  },
  {
   "cell_type": "code",
   "execution_count": 29,
   "id": "708fb2d5",
   "metadata": {},
   "outputs": [
    {
     "data": {
      "text/plain": [
       "0.3233143776482212"
      ]
     },
     "execution_count": 29,
     "metadata": {},
     "output_type": "execute_result"
    }
   ],
   "source": [
    "bcars.sf(2)"
   ]
  },
  {
   "cell_type": "code",
   "execution_count": 30,
   "id": "4b019b13",
   "metadata": {},
   "outputs": [
    {
     "data": {
      "text/plain": [
       "0.8673804441052468"
      ]
     },
     "execution_count": 30,
     "metadata": {},
     "output_type": "execute_result"
    }
   ],
   "source": [
    "bcars.sf(0).    "
   ]
  },
  {
   "cell_type": "markdown",
   "id": "57839c73",
   "metadata": {},
   "source": [
    "### 2) Grades of State University graduates are normally distributed with a mean of 3.0 and a standard deviation of .3. Calculate the following:\n",
    "\n",
    "- What grade point average is required to be in the top 5% of the graduating class? 3.49\n",
    "- What GPA constitutes the bottom 15% of the class? 2.689\n",
    "- An eccentric alumnus left scholarship money for students in the third decile from the bottom of their class.           Determine the range of the third decile. Would a student with a 2.8 grade point average qualify for this               scholarship? [2.747, 2.842], students with 2.8 would qualify \n",
    "- If I have a GPA of 3.5, what percentile am I in? 0.952"
   ]
  },
  {
   "cell_type": "code",
   "execution_count": 33,
   "id": "1a78e007",
   "metadata": {},
   "outputs": [
    {
     "data": {
      "text/plain": [
       "3.4934560880854417"
      ]
     },
     "execution_count": 33,
     "metadata": {},
     "output_type": "execute_result"
    }
   ],
   "source": [
    "mean = 3.0\n",
    "std = 0.3\n",
    "ud = stats.norm(mean,std)\n",
    "ud.isf(.05)"
   ]
  },
  {
   "cell_type": "code",
   "execution_count": 58,
   "id": "72f643c5",
   "metadata": {},
   "outputs": [
    {
     "data": {
      "text/plain": [
       "2.689069983151863"
      ]
     },
     "execution_count": 58,
     "metadata": {},
     "output_type": "execute_result"
    }
   ],
   "source": [
    "ud.ppf(.15)"
   ]
  },
  {
   "cell_type": "code",
   "execution_count": 123,
   "id": "d6886483",
   "metadata": {},
   "outputs": [
    {
     "data": {
      "text/plain": [
       "array([2.74751363, 2.84267985])"
      ]
     },
     "execution_count": 123,
     "metadata": {},
     "output_type": "execute_result"
    }
   ],
   "source": [
    "ud.ppf([0.2,0.3]) # giving it the third decile range."
   ]
  },
  {
   "cell_type": "code",
   "execution_count": 126,
   "id": "c788932d",
   "metadata": {},
   "outputs": [
    {
     "data": {
      "text/plain": [
       "0.9522096477271853"
      ]
     },
     "execution_count": 126,
     "metadata": {},
     "output_type": "execute_result"
    }
   ],
   "source": [
    "ud.cdf(3.5)"
   ]
  },
  {
   "cell_type": "markdown",
   "id": "3e71e96f",
   "metadata": {},
   "source": [
    "### 3) A marketing website has an average click-through rate of 2%. One day they observe 4326 visitors and 97 click-throughs. How likely is it that this many people or more click through? 0.139"
   ]
  },
  {
   "cell_type": "code",
   "execution_count": 71,
   "id": "1a30643e",
   "metadata": {},
   "outputs": [
    {
     "data": {
      "text/plain": [
       "0.13975823631416445"
      ]
     },
     "execution_count": 71,
     "metadata": {},
     "output_type": "execute_result"
    }
   ],
   "source": [
    "n_trials=4326\n",
    "p=0.02\n",
    "\n",
    "clicks = stats.binom(n_trials,p)\n",
    "clicks.sf(96)"
   ]
  },
  {
   "cell_type": "markdown",
   "id": "4ad23d18",
   "metadata": {},
   "source": [
    "### 4) You are working on some statistics homework consisting of 100 questions where all of the answers are a probability rounded to the hundreths place. Looking to save time, you put down random probabilities as the answer to each question.\n",
    "\n",
    "- What is the probability that at least one of your first 60 answers is correct? 0.452"
   ]
  },
  {
   "cell_type": "code",
   "execution_count": 84,
   "id": "252a80c7",
   "metadata": {},
   "outputs": [
    {
     "data": {
      "text/plain": [
       "0.45284335760923855"
      ]
     },
     "execution_count": 84,
     "metadata": {},
     "output_type": "execute_result"
    }
   ],
   "source": [
    "#1/100\n",
    "#stats.binom(n_trials,p)\n",
    "hw = stats.binom(60,1/100)\n",
    "hw.sf(0)"
   ]
  },
  {
   "cell_type": "markdown",
   "id": "d6046cc7",
   "metadata": {},
   "source": [
    "### 5) The codeup staff tends to get upset when the student break area is not cleaned up. Suppose that there's a 3% chance that any one student cleans the break area when they visit it, and, on any given day, about 90% of the 3 active cohorts of 22 students visit the break area. \n",
    "- How likely is it that the break area gets cleaned up each day? 0.836 \n",
    "- How likely is it that it goes two days without getting cleaned up? 0.026\n",
    "- All week? 0.0001"
   ]
  },
  {
   "cell_type": "code",
   "execution_count": 136,
   "id": "c844339c",
   "metadata": {},
   "outputs": [
    {
     "data": {
      "text/plain": [
       "0.8362274861228873"
      ]
     },
     "execution_count": 136,
     "metadata": {},
     "output_type": "execute_result"
    }
   ],
   "source": [
    "n_trials = (22*.9*3)\n",
    "p = .03\n",
    "cleanup = stats.binom(n_trials,p)\n",
    "cleanup.sf(0)"
   ]
  },
  {
   "cell_type": "code",
   "execution_count": 140,
   "id": "ea8cfefb",
   "metadata": {},
   "outputs": [
    {
     "data": {
      "text/plain": [
       "0.026821436301628983"
      ]
     },
     "execution_count": 140,
     "metadata": {},
     "output_type": "execute_result"
    }
   ],
   "source": [
    "stats.binom(n_trials*2,p).pmf(0)"
   ]
  },
  {
   "cell_type": "code",
   "execution_count": 138,
   "id": "f0d24d5a",
   "metadata": {},
   "outputs": [
    {
     "data": {
      "text/plain": [
       "0.00011781621791055051"
      ]
     },
     "execution_count": 138,
     "metadata": {},
     "output_type": "execute_result"
    }
   ],
   "source": [
    "stats.binom(n_trials*5,p).pmf(0)"
   ]
  },
  {
   "cell_type": "markdown",
   "id": "79e8dfc1",
   "metadata": {},
   "source": [
    "### 6) You want to get lunch at La Panaderia, but notice that the line is usually very long at lunchtime. After several weeks of careful observation, you notice that the average number of people in line when your lunch break starts is normally distributed with a mean of 15 and standard deviation of 3. If it takes 2 minutes for each person to order, and 10 minutes from ordering to getting your food, what is the likelihood that you have at least 15 minutes left to eat your food before you have to go back to class? Assume you have one hour for lunch, and ignore travel time to and from La Panaderia.     0.691"
   ]
  },
  {
   "cell_type": "code",
   "execution_count": 142,
   "id": "876b6a1a",
   "metadata": {},
   "outputs": [
    {
     "data": {
      "text/plain": [
       "1.9999999980268246"
      ]
     },
     "execution_count": 142,
     "metadata": {},
     "output_type": "execute_result"
    }
   ],
   "source": [
    "mean = 15 * 2\n",
    "std_dev = 3 * 2\n",
    "stats.norm(mean, std_dev).cdf(33)\n",
    "\n",
    "# 2 mins per person, 10 mins to prep food, >15 min of eating time(1 hr time limit)\n",
    "\n"
   ]
  },
  {
   "cell_type": "markdown",
   "id": "5e6dde0b",
   "metadata": {},
   "source": [
    "### 7) Connect to the employees database and find the average salary of current employees, along with the standard deviation. For the following questions, calculate the answer based on modeling the employees salaries with a normal distribution defined by the calculated mean and standard deviation then compare this answer to the actual values present in the salaries dataset.\n",
    "\n",
    "- What percent of employees earn less than 60,000?\n",
    "- What percent of employees earn more than 95,000?\n",
    "- What percent of employees earn between 65,000 and 80,000?\n",
    "- What do the top 5% of employees make?\n"
   ]
  },
  {
   "cell_type": "code",
   "execution_count": 161,
   "id": "a9956856",
   "metadata": {},
   "outputs": [
    {
     "ename": "ModuleNotFoundError",
     "evalue": "No module named 'env'",
     "output_type": "error",
     "traceback": [
      "\u001b[0;31m---------------------------------------------------------------------------\u001b[0m",
      "\u001b[0;31mModuleNotFoundError\u001b[0m                       Traceback (most recent call last)",
      "\u001b[0;32m/var/folders/dc/8rtfvpyj2mb6mqbnfkf5dl400000gn/T/ipykernel_58577/3927827768.py\u001b[0m in \u001b[0;36m<module>\u001b[0;34m\u001b[0m\n\u001b[0;32m----> 1\u001b[0;31m \u001b[0;32mfrom\u001b[0m \u001b[0menv\u001b[0m \u001b[0;32mimport\u001b[0m \u001b[0mget_db_url\u001b[0m\u001b[0;34m\u001b[0m\u001b[0;34m\u001b[0m\u001b[0m\n\u001b[0m",
      "\u001b[0;31mModuleNotFoundError\u001b[0m: No module named 'env'"
     ]
    }
   ],
   "source": [
    "from env import get_db_url"
   ]
  },
  {
   "cell_type": "code",
   "execution_count": 148,
   "id": "5d18c3d5",
   "metadata": {},
   "outputs": [
    {
     "ename": "NameError",
     "evalue": "name 'user' is not defined",
     "output_type": "error",
     "traceback": [
      "\u001b[0;31m---------------------------------------------------------------------------\u001b[0m",
      "\u001b[0;31mNameError\u001b[0m                                 Traceback (most recent call last)",
      "\u001b[0;32m/var/folders/dc/8rtfvpyj2mb6mqbnfkf5dl400000gn/T/ipykernel_58577/1821838710.py\u001b[0m in \u001b[0;36m<module>\u001b[0;34m\u001b[0m\n\u001b[0;32m----> 1\u001b[0;31m \u001b[0murl\u001b[0m \u001b[0;34m=\u001b[0m \u001b[0;34mf'mysql+pymysql://{user}:{password}@{host}/{database}'\u001b[0m\u001b[0;34m\u001b[0m\u001b[0;34m\u001b[0m\u001b[0m\n\u001b[0m\u001b[1;32m      2\u001b[0m query = '''\n\u001b[1;32m      3\u001b[0m \u001b[0mSELECT\u001b[0m \u001b[0;34m*\u001b[0m\u001b[0;34m\u001b[0m\u001b[0;34m\u001b[0m\u001b[0m\n\u001b[1;32m      4\u001b[0m \u001b[0mFROM\u001b[0m \u001b[0msalaries\u001b[0m \u001b[0ms\u001b[0m\u001b[0;34m\u001b[0m\u001b[0;34m\u001b[0m\u001b[0m\n\u001b[1;32m      5\u001b[0m \u001b[0mWHERE\u001b[0m \u001b[0ms\u001b[0m\u001b[0;34m.\u001b[0m\u001b[0mto_date\u001b[0m \u001b[0;34m>\u001b[0m \u001b[0mNOW\u001b[0m\u001b[0;34m(\u001b[0m\u001b[0;34m)\u001b[0m\u001b[0;34m\u001b[0m\u001b[0;34m\u001b[0m\u001b[0m\n",
      "\u001b[0;31mNameError\u001b[0m: name 'user' is not defined"
     ]
    }
   ],
   "source": [
    "url = f'mysql+pymysql://{user}:{password}@{host}/{database}'\n",
    "query = '''\n",
    "SELECT * \n",
    "FROM salaries s\n",
    "WHERE s.to_date > NOW()\n",
    "'''\n",
    "\n",
    "salaries = pd.read_sql(query, url)"
   ]
  },
  {
   "cell_type": "code",
   "execution_count": 143,
   "id": "0d8c6ae1",
   "metadata": {},
   "outputs": [
    {
     "ename": "NameError",
     "evalue": "name 'salaries' is not defined",
     "output_type": "error",
     "traceback": [
      "\u001b[0;31m---------------------------------------------------------------------------\u001b[0m",
      "\u001b[0;31mNameError\u001b[0m                                 Traceback (most recent call last)",
      "\u001b[0;32m/var/folders/dc/8rtfvpyj2mb6mqbnfkf5dl400000gn/T/ipykernel_58577/2094532602.py\u001b[0m in \u001b[0;36m<module>\u001b[0;34m\u001b[0m\n\u001b[0;32m----> 1\u001b[0;31m \u001b[0msalaries\u001b[0m\u001b[0;34m\u001b[0m\u001b[0;34m\u001b[0m\u001b[0m\n\u001b[0m",
      "\u001b[0;31mNameError\u001b[0m: name 'salaries' is not defined"
     ]
    }
   ],
   "source": [
    "salaries"
   ]
  },
  {
   "cell_type": "code",
   "execution_count": 144,
   "id": "73b94a0f",
   "metadata": {},
   "outputs": [
    {
     "ename": "SyntaxError",
     "evalue": "invalid syntax (1965154018.py, line 2)",
     "output_type": "error",
     "traceback": [
      "\u001b[0;36m  File \u001b[0;32m\"/var/folders/dc/8rtfvpyj2mb6mqbnfkf5dl400000gn/T/ipykernel_58577/1965154018.py\"\u001b[0;36m, line \u001b[0;32m2\u001b[0m\n\u001b[0;31m    std_dev = salaries.salary..std()\u001b[0m\n\u001b[0m                              ^\u001b[0m\n\u001b[0;31mSyntaxError\u001b[0m\u001b[0;31m:\u001b[0m invalid syntax\n"
     ]
    }
   ],
   "source": [
    "mean - salaries.salary.mean()\n",
    "std_dev = salaries.salary..std()"
   ]
  },
  {
   "cell_type": "code",
   "execution_count": 145,
   "id": "27270bb6",
   "metadata": {},
   "outputs": [
    {
     "data": {
      "text/plain": [
       "0.0"
      ]
     },
     "execution_count": 145,
     "metadata": {},
     "output_type": "execute_result"
    }
   ],
   "source": [
    "stats.norm(mean,std_dev).sf(60000)"
   ]
  },
  {
   "cell_type": "code",
   "execution_count": 146,
   "id": "618b045e",
   "metadata": {},
   "outputs": [
    {
     "data": {
      "text/plain": [
       "0.0"
      ]
     },
     "execution_count": 146,
     "metadata": {},
     "output_type": "execute_result"
    }
   ],
   "source": [
    "stats.norm(mean,std_dev).sf(95000)"
   ]
  },
  {
   "cell_type": "code",
   "execution_count": 147,
   "id": "7e7ca3aa",
   "metadata": {},
   "outputs": [
    {
     "data": {
      "text/plain": [
       "array([0.])"
      ]
     },
     "execution_count": 147,
     "metadata": {},
     "output_type": "execute_result"
    }
   ],
   "source": [
    "np.diff(stats.norm(mean,std_dev).cdf([65000,80000]))"
   ]
  },
  {
   "cell_type": "code",
   "execution_count": null,
   "id": "e20532f2",
   "metadata": {},
   "outputs": [],
   "source": [
    "stats.norm(mean,std_dev).isf(0.05)"
   ]
  }
 ],
 "metadata": {
  "kernelspec": {
   "display_name": "Python 3 (ipykernel)",
   "language": "python",
   "name": "python3"
  },
  "language_info": {
   "codemirror_mode": {
    "name": "ipython",
    "version": 3
   },
   "file_extension": ".py",
   "mimetype": "text/x-python",
   "name": "python",
   "nbconvert_exporter": "python",
   "pygments_lexer": "ipython3",
   "version": "3.9.7"
  }
 },
 "nbformat": 4,
 "nbformat_minor": 5
}
